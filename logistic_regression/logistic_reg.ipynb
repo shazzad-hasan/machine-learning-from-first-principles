{
  "nbformat": 4,
  "nbformat_minor": 0,
  "metadata": {
    "colab": {
      "name": "logistic_regression.ipynb",
      "provenance": [],
      "machine_shape": "hm"
    },
    "kernelspec": {
      "name": "python3",
      "display_name": "Python 3"
    },
    "language_info": {
      "name": "python"
    },
    "accelerator": "GPU"
  },
  "cells": [
    {
      "cell_type": "markdown",
      "source": [
        "In this notebook, we will build a logistic regression classifier to recognize images as cat or non-cat. "
      ],
      "metadata": {
        "id": "5wcLoNzqYNUW"
      }
    },
    {
      "cell_type": "code",
      "source": [
        "!git clone https://github.com/shazzad-hasan/deep-learning-from-first-principles.git"
      ],
      "metadata": {
        "id": "MmMRAmlP8qgk"
      },
      "execution_count": null,
      "outputs": []
    },
    {
      "cell_type": "code",
      "source": [
        "from google.colab import drive\n",
        "drive.mount('/content/drive')"
      ],
      "metadata": {
        "id": "JqplltZs8qjj"
      },
      "execution_count": null,
      "outputs": []
    },
    {
      "cell_type": "code",
      "source": [
        "%cd /content/deep-learning-from-first-principles/cat_vs_dog"
      ],
      "metadata": {
        "id": "PZlZwlR78qmd"
      },
      "execution_count": null,
      "outputs": []
    },
    {
      "cell_type": "code",
      "source": [
        "!ls"
      ],
      "metadata": {
        "id": "V_l1BaQ0_IJU"
      },
      "execution_count": null,
      "outputs": []
    },
    {
      "cell_type": "code",
      "source": [
        "# import requird libraries\n",
        "import os\n",
        "import numpy as np\n",
        "import cv2\n",
        "import random\n",
        "import matplotlib.pyplot as plt"
      ],
      "metadata": {
        "id": "FRTQfbvoASlk"
      },
      "execution_count": null,
      "outputs": []
    },
    {
      "cell_type": "code",
      "source": [
        "train_dir = 'train/'\n",
        "test_dir = 'test/'\n",
        "\n",
        "train_images = [train_dir+i for i in os.listdir(train_dir)]\n",
        "test_images =  [test_dir+i for i in os.listdir(test_dir)]"
      ],
      "metadata": {
        "id": "2RDQs50z_IMd"
      },
      "execution_count": null,
      "outputs": []
    },
    {
      "cell_type": "code",
      "source": [
        "# plot a training example\n",
        "index = 7\n",
        "img = cv2.imread(train_images[index])\n",
        "plt.imshow(img)"
      ],
      "metadata": {
        "id": "RtfLz53ZCuys"
      },
      "execution_count": null,
      "outputs": []
    },
    {
      "cell_type": "code",
      "source": [
        "def read_image(file_path):\n",
        "    img = cv2.imread(file_path, cv2.IMREAD_COLOR)\n",
        "    return cv2.resize(img, (rows, columns), interpolation=cv2.INTER_CUBIC)"
      ],
      "metadata": {
        "id": "b7PAYTzpASox"
      },
      "execution_count": null,
      "outputs": []
    },
    {
      "cell_type": "code",
      "source": [
        "rows = 64\n",
        "columns = 64\n",
        "channels = 3\n",
        "\n",
        "def prepare_data(images):\n",
        "    m = len(images)\n",
        "    X = np.zeros((m, rows, columns, channels), dtype=np.uint8)\n",
        "    y = np.zeros((1, m))\n",
        "    for i, image_file in enumerate(images):\n",
        "        X[i,:] = read_image(image_file)\n",
        "        if 'dog' in image_file.lower():\n",
        "            y[0, i] = 1\n",
        "        elif 'cat' in image_file.lower():\n",
        "            y[0, i] = 0\n",
        "    return X, y"
      ],
      "metadata": {
        "id": "YfI-Knu_ASsF"
      },
      "execution_count": null,
      "outputs": []
    },
    {
      "cell_type": "code",
      "source": [
        "train_x, train_y = prepare_data(train_images)\n",
        "test_x, test_y = prepare_data(test_images)\n",
        "\n",
        "m_train = train_x.shape[0]\n",
        "m_test = test_x.shape[0]\n",
        "num_px = train_x.shape[1]\n",
        "\n",
        "print (\"Number of training images = \" + str(m_train))\n",
        "print (\"Number of test images= \" + str(m_test))\n",
        "print (\"Image dimension (h,w,c): (\" + str(num_px) + \", \" + str(num_px) + \", 3)\")"
      ],
      "metadata": {
        "id": "i60_T4SkH-h0"
      },
      "execution_count": null,
      "outputs": []
    },
    {
      "cell_type": "code",
      "source": [
        "print(train_y)"
      ],
      "metadata": {
        "id": "kHEW-JIookPS"
      },
      "execution_count": null,
      "outputs": []
    },
    {
      "cell_type": "code",
      "source": [
        "print(test_y)"
      ],
      "metadata": {
        "id": "Yv6yiJjIGj94"
      },
      "execution_count": null,
      "outputs": []
    },
    {
      "cell_type": "code",
      "source": [
        "train_x_flatten = train_x.reshape(train_x.shape[0], -1).T\n",
        "test_x_flatten = test_x.reshape(test_x.shape[0], -1).T\n",
        "\n",
        "train_set_x = train_x_flatten/255\n",
        "test_set_x = test_x_flatten/255"
      ],
      "metadata": {
        "id": "t2rHD_2LC6g-"
      },
      "execution_count": null,
      "outputs": []
    },
    {
      "cell_type": "code",
      "source": [
        "print (\"train_set_x_flatten shape: \" + str(train_set_x.shape))\n",
        "print (\"train_set_y shape: \" + str(train_y.shape))\n",
        "print (\"test_set_x_flatten shape: \" + str(test_set_x.shape))\n",
        "print (\"test_set_y shape: \" + str(test_y.shape))"
      ],
      "metadata": {
        "id": "BVPtW_PEJJle"
      },
      "execution_count": null,
      "outputs": []
    },
    {
      "cell_type": "code",
      "source": [
        ""
      ],
      "metadata": {
        "id": "4DRSHpYSoyLz"
      },
      "execution_count": null,
      "outputs": []
    },
    {
      "cell_type": "code",
      "source": [
        "def sigmoid(z):\n",
        "  \"\"\" returns sigmoid of z\"\"\"\n",
        "  s = 1/(1+np.exp(-z))\n",
        "  return s"
      ],
      "metadata": {
        "id": "_y1HGG5IJJpd"
      },
      "execution_count": null,
      "outputs": []
    },
    {
      "cell_type": "code",
      "source": [
        "def initialize_with_zeros(d):\n",
        "  \"\"\" Inilitize the model parameters (w,b) with zeros\"\"\"\n",
        "  w = np.zeros((d,1))\n",
        "  b = 0\n",
        "  return w, b"
      ],
      "metadata": {
        "id": "a5w983TOLSb2"
      },
      "execution_count": null,
      "outputs": []
    },
    {
      "cell_type": "code",
      "source": [
        "def propagation(w, b, X, Y):\n",
        "  \"\"\" Implement the cost function and it's gradients\"\"\"\n",
        "  \n",
        "  m = X.shape[1]\n",
        "\n",
        "  # forward propagation\n",
        "  z = np.dot(w.T, X) + b\n",
        "  A = sigmoid(z)\n",
        "\n",
        "  loss = [(Y[0][i] * np.log(A[0][i]) + (1-Y[0][i]) * np.log(1-A[0][i]))  for i in range(m)]\n",
        "  cost = (-1/m) * np.sum(loss)  \n",
        "  \n",
        "  # backpropagation\n",
        "  dw = (1/m) * np.dot(X, (A-Y).T)\n",
        "  db = (1/m) * np.sum((A-Y))\n",
        "\n",
        "  cost = np.squeeze(cost)\n",
        "  gradients = {\"dw\":dw, \"db\":db}\n",
        "\n",
        "  return cost, gradients"
      ],
      "metadata": {
        "id": "qNAKkRv7LRyl"
      },
      "execution_count": null,
      "outputs": []
    },
    {
      "cell_type": "code",
      "source": [
        "def optimize(w, b, X, Y, learning_rate, num_iterations):\n",
        "  \"\"\" Optimize w, b by Gradient Descent (GD) algorithm \"\"\"\n",
        "  costs = []\n",
        "\n",
        "  for i in range(num_iterations):\n",
        "    cost, gradients = propagation(w, b, X, Y)\n",
        "\n",
        "    # retrive derivatives\n",
        "    dw = gradients[\"dw\"]\n",
        "    db = gradients[\"db\"]\n",
        "\n",
        "    # GD update rule\n",
        "    w -= learning_rate * dw\n",
        "    b -= learning_rate * db\n",
        "\n",
        "    # record the cost per 100 iterations\n",
        "    if i % 100 == 0:\n",
        "      costs.append(cost)\n",
        "\n",
        "    if i % 100 == 0:\n",
        "      print(\"Cost after iteration %i: %f\" %(i, cost))  \n",
        "\n",
        "  parameters = {\"w\": w, \"b\": b}\n",
        "  gradients = {\"dw\": dw, \"db\": db}\n",
        "\n",
        "  return parameters, gradients, costs"
      ],
      "metadata": {
        "id": "uDxPTHvuAA95"
      },
      "execution_count": null,
      "outputs": []
    },
    {
      "cell_type": "code",
      "source": [
        "def predict(w, b, X):\n",
        "  \"\"\" Takes in learned logistic regression parameters (w,b)\n",
        "      and returns a vector containing all predictions for \n",
        "      the examples in X.\n",
        "  \"\"\"\n",
        "  m = X.shape[1]\n",
        "  predicted_Y = np.zeros((1,m))\n",
        "\n",
        "  w = w.reshape(X.shape[0],1)\n",
        "  z = np.dot(w.T, X) + b\n",
        "  A = sigmoid(z)\n",
        "\n",
        "  # convert probabilities A[0][i] to actual predictions\n",
        "  for i in range(A.shape[1]):\n",
        "    if A[0, i] > 0.5:\n",
        "      predicted_Y[0, i] = 1\n",
        "    else:\n",
        "      predicted_Y[0, i] = 0\n",
        "      \n",
        "  return predicted_Y"
      ],
      "metadata": {
        "id": "mj7dfSi8LWpc"
      },
      "execution_count": null,
      "outputs": []
    },
    {
      "cell_type": "code",
      "source": [
        "def model(train_x, train_y, test_x, test_y, num_iterations = 2000, learning_rate = 0.5):\n",
        "    \"\"\" Builds the logistic regression model and returns a dictionary containing \n",
        "        informations about the model.\n",
        "    \"\"\"\n",
        "    \n",
        "    # initialize parameters with zeros\n",
        "    w, b = initialize_with_zeros(train_x.shape[0])\n",
        "    \n",
        "    # gradient descent\n",
        "    parameters, grads, costs = optimize(w, b, train_x, train_y, learning_rate, num_iterations)\n",
        "    \n",
        "    # retrieve weights and biases\n",
        "    w = parameters[\"w\"]\n",
        "    b = parameters[\"b\"]\n",
        "    \n",
        "    # predict train and test set examples\n",
        "    train_prediction_y = predict(w, b, train_x)\n",
        "    text_prediction_y = predict(w, b, test_x)\n",
        "\n",
        "    print(\"train accuracy: {} %\".format(100 - np.mean(np.abs(train_prediction_y - train_y)) * 100))\n",
        "    print(\"test accuracy: {} %\".format(100 - np.mean(np.abs(text_prediction_y - test_y)) * 100))\n",
        "\n",
        "    # create a dic containing informations about the model\n",
        "    d = {\"costs\": costs,\n",
        "         \"train_prediction_y\" : train_prediction_y,\n",
        "         \"text_prediction_y\": text_prediction_y, \n",
        "         \"w\" : w, \n",
        "         \"b\" : b,\n",
        "         \"learning_rate\" : learning_rate,\n",
        "         \"num_iterations\": num_iterations}\n",
        "    \n",
        "    return d"
      ],
      "metadata": {
        "id": "I8N1iMSc1r3P"
      },
      "execution_count": null,
      "outputs": []
    },
    {
      "cell_type": "code",
      "source": [
        "# train the model\n",
        "d = model(train_set_x, train_y, test_set_x, test_y, num_iterations = 3000, learning_rate = 0.001)"
      ],
      "metadata": {
        "id": "9S--_Rluobhr"
      },
      "execution_count": null,
      "outputs": []
    },
    {
      "cell_type": "code",
      "source": [
        "# plot learning curve with costs\n",
        "costs = np.squeeze(d[\"costs\"])\n",
        "plt.plot(costs)\n",
        "plt.xlabel(\"Iteration (per hundreds)\")\n",
        "plt.ylabel(\"Cost\")\n",
        "plt.title(\"Training cost for per hundreds iterations\")\n",
        "plt.show()"
      ],
      "metadata": {
        "id": "PkGGqwnrzV5d"
      },
      "execution_count": null,
      "outputs": []
    },
    {
      "cell_type": "code",
      "source": [
        ""
      ],
      "metadata": {
        "id": "E4gJN36vGs9c"
      },
      "execution_count": null,
      "outputs": []
    }
  ]
}